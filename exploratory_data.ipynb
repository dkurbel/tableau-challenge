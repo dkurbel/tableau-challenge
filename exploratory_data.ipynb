{
 "cells": [
  {
   "cell_type": "code",
   "execution_count": 2,
   "metadata": {},
   "outputs": [],
   "source": [
    "import pandas as pd\n",
    "import os"
   ]
  },
  {
   "cell_type": "code",
   "execution_count": 3,
   "metadata": {},
   "outputs": [
    {
     "data": {
      "text/plain": [
       "[('202103', 'Resources/202103-citibike-tripdata.csv'),\n",
       " ('202104', 'Resources/202104-citibike-tripdata.csv'),\n",
       " ('202105', 'Resources/202105-citibike-tripdata.csv'),\n",
       " ('202106', 'Resources/202106-citibike-tripdata.csv'),\n",
       " ('202107', 'Resources/202107-citibike-tripdata.csv'),\n",
       " ('202108', 'Resources/202108-citibike-tripdata.csv'),\n",
       " ('202109', 'Resources/202109-citibike-tripdata.csv'),\n",
       " ('202110', 'Resources/202110-citibike-tripdata.csv'),\n",
       " ('202111', 'Resources/202111-citibike-tripdata.csv'),\n",
       " ('202112', 'Resources/202112-citibike-tripdata.csv'),\n",
       " ('202201', 'Resources/202201-citibike-tripdata.csv'),\n",
       " ('202202', 'Resources/202202-citibike-tripdata.csv'),\n",
       " ('202203', 'Resources/202203-citibike-tripdata.csv'),\n",
       " ('202204', 'Resources/202204-citibike-tripdata.csv'),\n",
       " ('202205', 'Resources/202205-citibike-tripdata.csv'),\n",
       " ('202206', 'Resources/202206-citibike-tripdata.csv'),\n",
       " ('202207', 'Resources/202207-citibike-tripdata.csv'),\n",
       " ('202208', 'Resources/202208-citibike-tripdata.csv'),\n",
       " ('202209', 'Resources/202209-citibike-tripdata.csv'),\n",
       " ('202210', 'Resources/202210-citibike-tripdata.csv'),\n",
       " ('202211', 'Resources/202211-citibike-tripdata.csv'),\n",
       " ('202212', 'Resources/202212-citibike-tripdata.csv'),\n",
       " ('202301', 'Resources/202301-citibike-tripdata.csv'),\n",
       " ('202302', 'Resources/202302-citibike-tripdata.csv')]"
      ]
     },
     "execution_count": 3,
     "metadata": {},
     "output_type": "execute_result"
    }
   ],
   "source": [
    "files = {}\n",
    "for filename in os.listdir('Resources/'):\n",
    "    if filename.endswith('.csv'):\n",
    "        filepath = os.path.join('Resources/', filename)\n",
    "        filemarker = filename[:6]\n",
    "        files[filemarker] = filepath\n",
    "files = list(sorted(files.items()))\n",
    "files"
   ]
  },
  {
   "cell_type": "code",
   "execution_count": 4,
   "metadata": {},
   "outputs": [],
   "source": [
    "dfs = []\n",
    "for file in files:\n",
    "    dfs.append((file[0], pd.read_csv(file[1], dtype={5:str,7:str})))"
   ]
  },
  {
   "cell_type": "code",
   "execution_count": null,
   "metadata": {},
   "outputs": [
    {
     "name": "stdout",
     "output_type": "stream",
     "text": [
      "Date: 202103 Status: Match\n",
      "Date: 202104 Status: Match\n",
      "Date: 202105 Status: Match\n",
      "Date: 202106 Status: Match\n",
      "Date: 202107 Status: Match\n",
      "Date: 202108 Status: Match\n",
      "Date: 202109 Status: Match\n",
      "Date: 202110 Status: Match\n",
      "Date: 202111 Status: Match\n",
      "Date: 202112 Status: Match\n",
      "Date: 202201 Status: Match\n",
      "Date: 202202 Status: Match\n",
      "Date: 202203 Status: Match\n",
      "Date: 202204 Status: Match\n",
      "Date: 202205 Status: Match\n",
      "Date: 202206 Status: Match\n",
      "Date: 202207 Status: Match\n",
      "Date: 202208 Status: Match\n",
      "Date: 202209 Status: Match\n",
      "Date: 202210 Status: Match\n",
      "Date: 202211 Status: Match\n",
      "Date: 202212 Status: Match\n",
      "Date: 202301 Status: Match\n",
      "Date: 202302 Status: Match\n"
     ]
    }
   ],
   "source": [
    "match_columns = list(dfs[0][1].columns)\n",
    "for df in dfs:\n",
    "    if list(df[1].columns) == match_columns:\n",
    "        print(f'Date: {df[0]} Status: Match')\n",
    "    else:\n",
    "        print(f'''Date: {df[0]}\n",
    "Columns:{list(df[1].columns)}''')"
   ]
  },
  {
   "cell_type": "code",
   "execution_count": 1,
   "metadata": {},
   "outputs": [
    {
     "ename": "NameError",
     "evalue": "name 'dfs' is not defined",
     "output_type": "error",
     "traceback": [
      "\u001b[0;31m---------------------------------------------------------------------------\u001b[0m",
      "\u001b[0;31mNameError\u001b[0m                                 Traceback (most recent call last)",
      "\u001b[1;32m/Users/dylan/Desktop/git/tableau-challenge/transform_data.ipynb Cell 5\u001b[0m in \u001b[0;36m<cell line: 1>\u001b[0;34m()\u001b[0m\n\u001b[0;32m----> <a href='vscode-notebook-cell:/Users/dylan/Desktop/git/tableau-challenge/transform_data.ipynb#W4sZmlsZQ%3D%3D?line=0'>1</a>\u001b[0m dfs[\u001b[39m0\u001b[39m][\u001b[39m0\u001b[39m]\n",
      "\u001b[0;31mNameError\u001b[0m: name 'dfs' is not defined"
     ]
    }
   ],
   "source": [
    "dfs[0][0]"
   ]
  },
  {
   "cell_type": "code",
   "execution_count": null,
   "metadata": {},
   "outputs": [],
   "source": [
    "dfs[0][1]"
   ]
  }
 ],
 "metadata": {
  "kernelspec": {
   "display_name": "Python 3.9.12 ('base')",
   "language": "python",
   "name": "python3"
  },
  "language_info": {
   "codemirror_mode": {
    "name": "ipython",
    "version": 3
   },
   "file_extension": ".py",
   "mimetype": "text/x-python",
   "name": "python",
   "nbconvert_exporter": "python",
   "pygments_lexer": "ipython3",
   "version": "3.9.12"
  },
  "orig_nbformat": 4,
  "vscode": {
   "interpreter": {
    "hash": "9164f9f156afd3270be00908a629fdf90d3514ea3445c456a2207d485b2a9e05"
   }
  }
 },
 "nbformat": 4,
 "nbformat_minor": 2
}
